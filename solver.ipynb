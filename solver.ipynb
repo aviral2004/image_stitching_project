{
 "cells": [
  {
   "cell_type": "code",
   "execution_count": null,
   "metadata": {},
   "outputs": [],
   "source": [
    "import numpy as np\n",
    "from pathlib import Path\n",
    "import cv2\n",
    "import matplotlib.pyplot as plt\n",
    "from math import ceil, floor"
   ]
  },
  {
   "cell_type": "code",
   "execution_count": null,
   "metadata": {},
   "outputs": [],
   "source": [
    "SAMPLE_NUMBER = 3\n",
    "image_dir = Path.cwd()/\"samples\"/str(SAMPLE_NUMBER)\n",
    "COORDS = np.load(image_dir/'points.npy')\n",
    "IMAGES = [x for x in image_dir.iterdir() if x.suffix == \".jpg\"]"
   ]
  },
  {
   "cell_type": "code",
   "execution_count": null,
   "metadata": {},
   "outputs": [],
   "source": [
    "def solver(COORDS):\n",
    "    '''\n",
    "    COORDS : Nx2x2 array of coordinates\n",
    "    x', y' = COORDS[i][0]\n",
    "    x, y = COORDS[i][1]\n",
    "    '''\n",
    "    n, _, _ = COORDS.shape\n",
    "    A = []\n",
    "    B = []\n",
    "    for i in range(n):\n",
    "        x_, y_ = COORDS[i][0]\n",
    "        x, y = COORDS[i][1]\n",
    "        \n",
    "        a = np.array([\n",
    "            [x,y,1,0,0,0,-x*x_,-y*x_],\n",
    "            [0,0,0,x,y,1,-x*y_,-y*y_]\n",
    "        ])\n",
    "        b = np.array([x_, y_])\n",
    "        A.append(a)\n",
    "        B.append(b)\n",
    "\n",
    "    A = np.vstack(A)\n",
    "    B = np.hstack(B)\n",
    "    \n",
    "    H = np.linalg.lstsq(A, B, rcond=None)[0]\n",
    "    H = np.append(H, 1)\n",
    "    H.resize((3,3))\n",
    "    return H"
   ]
  },
  {
   "cell_type": "code",
   "execution_count": null,
   "metadata": {},
   "outputs": [],
   "source": [
    "H = solver(COORDS)\n",
    "\n",
    "\n",
    "# image 1\n",
    "image1= cv2.imread(str(IMAGES[0]))\n",
    "resized_img1 = np.zeros((4000, 6000, 3), dtype=np.uint8)\n",
    "resized_img1[:image1.shape[0], :image1.shape[1], :] = image1\n",
    "image1 = cv2.cvtColor(resized_img1, cv2.COLOR_BGR2RGB)\n",
    "mask1 = np.any(image1 != [0, 0, 0], axis=2)\n",
    "print(mask1.shape)\n",
    "# image 2 warped\n",
    "image = cv2.imread(str(IMAGES[1]))\n",
    "output_size = (6000, 4000)\n",
    "output = cv2.warpPerspective(image, H, output_size)\n",
    "output = cv2.cvtColor(output, cv2.COLOR_BGR2RGB)\n",
    "mask2 = np.any(output != [0, 0, 0], axis=2)\n",
    "print(mask2.shape)\n",
    "# final image\n",
    "final = np.zeros_like(output)\n",
    "AND_MASK = np.logical_and(mask1, mask2)\n",
    "final[AND_MASK] = cv2.addWeighted(image1, 0.5, output, 0.5, 0)[AND_MASK]\n",
    "mask1_alone = np.logical_and(mask1, np.logical_not(mask2))\n",
    "mask2_alone = np.logical_and(mask2, np.logical_not(mask1))\n",
    "final[mask1_alone] = image1[mask1_alone]\n",
    "final[mask2_alone] = output[mask2_alone]"
   ]
  },
  {
   "cell_type": "code",
   "execution_count": null,
   "metadata": {},
   "outputs": [],
   "source": [
    "plt.imshow(final)\n",
    "# save image\n",
    "# cv2.imwrite(\"output.jpg\", cv2.cvtColor(final, cv2.COLOR_RGB2BGR))"
   ]
  },
  {
   "cell_type": "markdown",
   "metadata": {},
   "source": [
    "### Writing a `merge` function to combine all the images in a single canvas"
   ]
  },
  {
   "cell_type": "code",
   "execution_count": null,
   "metadata": {},
   "outputs": [],
   "source": [
    "def get_bounding_box(image, H):\n",
    "    # get all corners\n",
    "    corners = np.array([\n",
    "        [0, 0, 1],\n",
    "        [image.shape[1], 0, 1],\n",
    "        [0, image.shape[0], 1],\n",
    "        [image.shape[1], image.shape[0], 1],\n",
    "    ]).T\n",
    "\n",
    "    # transform corners\n",
    "    corners = H @ corners\n",
    "\n",
    "    # normalize: x/w, y/w\n",
    "    corners = corners / corners[2]\n",
    "\n",
    "    # get bounding box\n",
    "    min_x = floor(np.min(corners[0]))\n",
    "    max_x = ceil(np.max(corners[0]))\n",
    "    min_y = floor(np.min(corners[1]))\n",
    "    max_y = ceil(np.max(corners[1]))\n",
    "    \n",
    "    return (min_x, max_x, min_y, max_y)\n",
    "\n",
    "def get_translation_matrix(deltax, deltay):\n",
    "    return np.array([\n",
    "        [1, 0, deltax],\n",
    "        [0, 1, deltay],\n",
    "        [0, 0, 1]\n",
    "    ], dtype=np.float32)\n",
    "\n",
    "def merge(image_homographies_pairs):\n",
    "    # homographies are with respect to the origin of the first image\n",
    "    X, Y = float('inf'), float('inf')\n",
    "    Xprime, Yprime = float('-inf'), float('-inf')\n",
    "    for image, H in image_homographies_pairs:\n",
    "        min_x, max_x, min_y, max_y = get_bounding_box(image, H)\n",
    "        X = min(X, min_x)\n",
    "        Y = min(Y, min_y)\n",
    "        Xprime = max(Xprime, max_x)\n",
    "        Yprime = max(Yprime, max_y)\n",
    "\n",
    "    canvas_size = (Xprime - X, Yprime - Y)\n",
    "    images = []\n",
    "    for image, H in image_homographies_pairs:\n",
    "        deltax = -X\n",
    "        deltay = -Y\n",
    "        translation_matrix = get_translation_matrix(deltax, deltay)\n",
    "        warped = cv2.warpPerspective(image, translation_matrix @ H, canvas_size)\n",
    "        images.append(warped)\n",
    "    return images        "
   ]
  },
  {
   "cell_type": "code",
   "execution_count": null,
   "metadata": {},
   "outputs": [],
   "source": [
    "SAMPLE_NUMBER = 3\n",
    "image_dir = Path.cwd()/\"samples\"/str(SAMPLE_NUMBER)\n",
    "COORDS = np.load(image_dir/'points.npy')\n",
    "IMAGES = [x for x in image_dir.iterdir() if x.suffix == \".jpg\"]"
   ]
  },
  {
   "cell_type": "code",
   "execution_count": null,
   "metadata": {},
   "outputs": [],
   "source": [
    "\n",
    "im1 = cv2.imread(str(IMAGES[0]))\n",
    "im2 = cv2.imread(str(IMAGES[1]))\n",
    "H = solver(COORDS)\n",
    "ims = [(im1, np.eye(3)), (im2, H)]\n",
    "im1, im2 = merge(ims)\n"
   ]
  },
  {
   "cell_type": "code",
   "execution_count": null,
   "metadata": {},
   "outputs": [],
   "source": [
    "fig, ax = plt.subplots(1, 2)\n",
    "ax[0].imshow(cv2.cvtColor(im1, cv2.COLOR_BGR2RGB))\n",
    "ax[1].imshow(cv2.cvtColor(im2, cv2.COLOR_BGR2RGB))"
   ]
  },
  {
   "cell_type": "code",
   "execution_count": null,
   "metadata": {},
   "outputs": [],
   "source": [
    "im1_mask = np.any(im1 != [0, 0, 0], axis=2)\n",
    "im2_mask = np.any(im2 != [0, 0, 0], axis=2)\n",
    "common = np.logical_and(im1_mask, im2_mask)\n",
    "common_image = cv2.addWeighted(im1, 0.5, im2, 0.5, 0)\n",
    "final_image = im1 + im2\n",
    "final_image[common] = common_image[common]\n",
    "\n",
    "cv2.imwrite(str(image_dir/'output.jpg'), final_image)"
   ]
  },
  {
   "cell_type": "code",
   "execution_count": null,
   "metadata": {},
   "outputs": [],
   "source": [
    "plt.imshow(cv2.cvtColor(final_image, cv2.COLOR_BGR2RGB))"
   ]
  }
 ],
 "metadata": {
  "kernelspec": {
   "display_name": "Python 3",
   "language": "python",
   "name": "python3"
  },
  "language_info": {
   "codemirror_mode": {
    "name": "ipython",
    "version": 3
   },
   "file_extension": ".py",
   "mimetype": "text/x-python",
   "name": "python",
   "nbconvert_exporter": "python",
   "pygments_lexer": "ipython3",
   "version": "3.9.13"
  }
 },
 "nbformat": 4,
 "nbformat_minor": 2
}
