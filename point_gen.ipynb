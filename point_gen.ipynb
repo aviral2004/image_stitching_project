{
 "cells": [
  {
   "cell_type": "code",
   "execution_count": null,
   "metadata": {},
   "outputs": [],
   "source": [
    "from pathlib import Path\n",
    "import matplotlib.pyplot as plt\n",
    "import numpy as np\n",
    "%matplotlib tk"
   ]
  },
  {
   "cell_type": "markdown",
   "metadata": {},
   "source": [
    "### Usage\n",
    "Change the variable `SAMPLE_NUMBER` to the directory name in the 'samples' folder having the name.\n",
    "\n",
    "Use **right click** to make a point."
   ]
  },
  {
   "cell_type": "code",
   "execution_count": null,
   "metadata": {},
   "outputs": [],
   "source": [
    "SAMPLE_NUMBER = 1\n",
    "image_dir = Path.cwd()/\"samples\"/str(SAMPLE_NUMBER)\n",
    "IMAGES = [x for x in image_dir.iterdir() if x.suffix == \".jpg\"]"
   ]
  },
  {
   "cell_type": "code",
   "execution_count": null,
   "metadata": {},
   "outputs": [],
   "source": [
    "if (image_dir/\"points.npy\").exists():\n",
    "    print(\"Results folder already exists\")\n",
    "    raise Exception"
   ]
  },
  {
   "cell_type": "code",
   "execution_count": null,
   "metadata": {},
   "outputs": [],
   "source": [
    "colors = ['red', 'green', 'blue', 'yellow', 'orange', 'purple', 'pink', 'brown']\n",
    "\n",
    "fig, ax = plt.subplots(1, len(IMAGES))\n",
    "for i in range(len(IMAGES)):\n",
    "    img = plt.imread(str(IMAGES[i]))\n",
    "    ax[i].imshow(img)\n",
    "\n",
    "pointer = 0\n",
    "color_pointer = 0\n",
    "\n",
    "#make a numpy array of size len(COLORS) x len(IMAGES) x 2\n",
    "COORDS = np.zeros((len(colors), len(IMAGES), 2), dtype=np.int64)\n",
    "\n",
    "def onclick(event):\n",
    "    global pointer\n",
    "    global color_pointer\n",
    "    \n",
    "    if event.xdata == None or event.ydata == None: return\n",
    "    if event.button != 3: return\n",
    "    if event.inaxes != ax[pointer]: return\n",
    "    \n",
    "    ix, iy = event.xdata, event.ydata\n",
    "    COORDS[color_pointer, pointer, 0] = round(event.xdata)\n",
    "    COORDS[color_pointer, pointer, 1] = round(event.ydata)\n",
    "    color = colors[color_pointer]\n",
    "    ax[pointer].scatter(ix, iy, color=color, marker='o', s=10)\n",
    "    \n",
    "    if pointer == len(ax) - 1: color_pointer += 1\n",
    "    if color_pointer == len(colors): fig.canvas.mpl_disconnect(cid)\n",
    "    pointer = (pointer + 1) % len(ax)\n",
    "    plt.draw()\n",
    "    \n",
    "cid = fig.canvas.mpl_connect('button_press_event', onclick)"
   ]
  },
  {
   "cell_type": "code",
   "execution_count": null,
   "metadata": {},
   "outputs": [],
   "source": [
    "# export the COORDS to points.npy\n",
    "np.save(str(image_dir/\"points.npy\"), COORDS, )"
   ]
  }
 ],
 "metadata": {
  "kernelspec": {
   "display_name": "Python 3",
   "language": "python",
   "name": "python3"
  },
  "language_info": {
   "codemirror_mode": {
    "name": "ipython",
    "version": 3
   },
   "file_extension": ".py",
   "mimetype": "text/x-python",
   "name": "python",
   "nbconvert_exporter": "python",
   "pygments_lexer": "ipython3",
   "version": "3.9.13"
  }
 },
 "nbformat": 4,
 "nbformat_minor": 2
}
