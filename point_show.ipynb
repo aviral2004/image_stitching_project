{
 "cells": [
  {
   "cell_type": "code",
   "execution_count": null,
   "metadata": {},
   "outputs": [],
   "source": [
    "from pathlib import Path\n",
    "import matplotlib.pyplot as plt\n",
    "import numpy as np"
   ]
  },
  {
   "cell_type": "code",
   "execution_count": null,
   "metadata": {},
   "outputs": [],
   "source": [
    "SAMPLE_NUMBER = 1\n",
    "image_dir = Path.cwd()/\"samples\"/str(SAMPLE_NUMBER)\n",
    "IMAGES = [x for x in image_dir.iterdir() if x.suffix == \".jpg\"]"
   ]
  },
  {
   "cell_type": "code",
   "execution_count": null,
   "metadata": {},
   "outputs": [],
   "source": [
    "colors = ['red', 'green', 'blue', 'yellow', 'orange', 'purple', 'pink', 'brown']\n",
    "\n",
    "coords = np.load(str(image_dir/\"points.npy\"))\n",
    "\n",
    "fig, ax = plt.subplots(1, len(IMAGES))\n",
    "for i in range(len(IMAGES)):\n",
    "    img = plt.imread(str(IMAGES[i]))\n",
    "    ax[i].imshow(img)\n",
    "\n",
    "for i in range(len(coords)):\n",
    "    color = colors[i]\n",
    "    x1, y1 = coords[i][0]\n",
    "    x2, y2 = coords[i][1]\n",
    "    ax[0].scatter(x1, y1, color=color, s=10)\n",
    "    ax[1].scatter(x2, y2, color=color, s=10)\n",
    "    "
   ]
  }
 ],
 "metadata": {
  "kernelspec": {
   "display_name": "Python 3",
   "language": "python",
   "name": "python3"
  },
  "language_info": {
   "codemirror_mode": {
    "name": "ipython",
    "version": 3
   },
   "file_extension": ".py",
   "mimetype": "text/x-python",
   "name": "python",
   "nbconvert_exporter": "python",
   "pygments_lexer": "ipython3",
   "version": "3.9.13"
  }
 },
 "nbformat": 4,
 "nbformat_minor": 2
}
